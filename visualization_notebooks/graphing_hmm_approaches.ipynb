{
 "cells": [
  {
   "cell_type": "code",
   "execution_count": 1,
   "metadata": {},
   "outputs": [],
   "source": [
    "import os\n",
    "import pickle\n",
    "import torch\n",
    "import numpy as np\n",
    "import matplotlib.pyplot as plt\n",
    "import pandas"
   ]
  },
  {
   "cell_type": "markdown",
   "metadata": {},
   "source": [
    "Graph 1: X axis is frame number, Y axis is reward, one line per model.\n",
    "Graph 2: 3 lines per model, one per state in the forward lattice\n",
    "Graph 3: 3 lines per model, one per state in isolation\n",
    "Graph 4: Log likelihood over time\n",
    "Compute log prob, reward, per-state probabilities from the forward lattice, isolated per-state probabilities)\n",
    "\n",
    "Video 1: Success\n",
    "Video 2: late noise\n",
    "video 3: early noise\n",
    "Video 4: failure\n",
    "Video 5: degenerate\n",
    "\n",
    "Model 1: Univariate model with mean\n",
    "\n",
    "Dataset 1: normal\n",
    "Dataset 2: sigmoids\n",
    "\n",
    "\n"
   ]
  }
 ],
 "metadata": {
  "kernelspec": {
   "display_name": "Python 3",
   "language": "python",
   "name": "python3"
  },
  "language_info": {
   "codemirror_mode": {
    "name": "ipython",
    "version": 3
   },
   "file_extension": ".py",
   "mimetype": "text/x-python",
   "name": "python",
   "nbconvert_exporter": "python",
   "pygments_lexer": "ipython3",
   "version": "3.6.7"
  }
 },
 "nbformat": 4,
 "nbformat_minor": 4
}
